{
 "cells": [
  {
   "source": [
    "# Part 1: Feature Engineering"
   ],
   "cell_type": "markdown",
   "metadata": {}
  },
  {
   "cell_type": "code",
   "execution_count": 15,
   "metadata": {},
   "outputs": [],
   "source": [
    "import pandas as pd\n",
    "import numpy as np\n",
    "import seaborn as sns\n",
    "import matplotlib.pyplot as plt\n",
    "from sklearn import preprocessing\n",
    "from pyod.models.iforest import IForest\n",
    "from sklearn.model_selection import train_test_split"
   ]
  },
  {
   "cell_type": "code",
   "execution_count": 2,
   "metadata": {},
   "outputs": [],
   "source": [
    "df = pd.read_csv(\"/Users/judy/Desktop/cu/anomaly detection/health_data_clustering.csv\")"
   ]
  },
  {
   "cell_type": "code",
   "execution_count": 3,
   "metadata": {},
   "outputs": [
    {
     "data": {
      "text/html": [
       "<div>\n",
       "<style scoped>\n",
       "    .dataframe tbody tr th:only-of-type {\n",
       "        vertical-align: middle;\n",
       "    }\n",
       "\n",
       "    .dataframe tbody tr th {\n",
       "        vertical-align: top;\n",
       "    }\n",
       "\n",
       "    .dataframe thead th {\n",
       "        text-align: right;\n",
       "    }\n",
       "</style>\n",
       "<table border=\"1\" class=\"dataframe\">\n",
       "  <thead>\n",
       "    <tr style=\"text-align: right;\">\n",
       "      <th></th>\n",
       "      <th>DRG Definition</th>\n",
       "      <th>Provider Id</th>\n",
       "      <th>Provider Name</th>\n",
       "      <th>Provider Street Address</th>\n",
       "      <th>Provider City</th>\n",
       "      <th>Provider State</th>\n",
       "      <th>Provider Zip Code</th>\n",
       "      <th>Hospital Referral Region Description</th>\n",
       "      <th>Total Discharges</th>\n",
       "      <th>Average Covered Charges</th>\n",
       "      <th>...</th>\n",
       "      <th>avg covered charges/Average_Covered_Charges_by_Hospital</th>\n",
       "      <th>Minimum_Medicare_Payment_by_Hospital</th>\n",
       "      <th>Median_Medicare_Payment_by_Hospital</th>\n",
       "      <th>Average_Medicare_Payment_by_Hospital</th>\n",
       "      <th>Maximum_Medicare_Payment_by_Hospital</th>\n",
       "      <th>STD_Medicare_Payment_by_Hospital</th>\n",
       "      <th>SUM_of_Medicare_Payment_by_Hospital</th>\n",
       "      <th>avg medicare payment/Average_Medicare_Payment_by_Hospital</th>\n",
       "      <th>charge/medicare ratio</th>\n",
       "      <th>percentage of medciare payment to total payment</th>\n",
       "    </tr>\n",
       "  </thead>\n",
       "  <tbody>\n",
       "    <tr>\n",
       "      <th>0</th>\n",
       "      <td>039 - EXTRACRANIAL PROCEDURES W/O CC/MCC</td>\n",
       "      <td>10001</td>\n",
       "      <td>SOUTHEAST ALABAMA MEDICAL CENTER</td>\n",
       "      <td>1108 ROSS CLARK CIRCLE</td>\n",
       "      <td>DOTHAN</td>\n",
       "      <td>AL</td>\n",
       "      <td>36301</td>\n",
       "      <td>AL - Dothan</td>\n",
       "      <td>91</td>\n",
       "      <td>32963.07</td>\n",
       "      <td>...</td>\n",
       "      <td>0.935201</td>\n",
       "      <td>2093.38</td>\n",
       "      <td>5683.385</td>\n",
       "      <td>7678.214348</td>\n",
       "      <td>32095.75</td>\n",
       "      <td>5990.735366</td>\n",
       "      <td>706395.72</td>\n",
       "      <td>0.620422</td>\n",
       "      <td>1.212756</td>\n",
       "      <td>0.824568</td>\n",
       "    </tr>\n",
       "    <tr>\n",
       "      <th>1</th>\n",
       "      <td>039 - EXTRACRANIAL PROCEDURES W/O CC/MCC</td>\n",
       "      <td>10005</td>\n",
       "      <td>MARSHALL MEDICAL CENTER SOUTH</td>\n",
       "      <td>2505 U S HIGHWAY 431 NORTH</td>\n",
       "      <td>BOAZ</td>\n",
       "      <td>AL</td>\n",
       "      <td>35957</td>\n",
       "      <td>AL - Birmingham</td>\n",
       "      <td>14</td>\n",
       "      <td>15131.85</td>\n",
       "      <td>...</td>\n",
       "      <td>0.919808</td>\n",
       "      <td>2467.15</td>\n",
       "      <td>4976.710</td>\n",
       "      <td>5793.631429</td>\n",
       "      <td>13342.72</td>\n",
       "      <td>2784.451480</td>\n",
       "      <td>283887.94</td>\n",
       "      <td>0.858997</td>\n",
       "      <td>1.162931</td>\n",
       "      <td>0.859896</td>\n",
       "    </tr>\n",
       "    <tr>\n",
       "      <th>2</th>\n",
       "      <td>039 - EXTRACRANIAL PROCEDURES W/O CC/MCC</td>\n",
       "      <td>10006</td>\n",
       "      <td>ELIZA COFFEE MEMORIAL HOSPITAL</td>\n",
       "      <td>205 MARENGO STREET</td>\n",
       "      <td>FLORENCE</td>\n",
       "      <td>AL</td>\n",
       "      <td>35631</td>\n",
       "      <td>AL - Birmingham</td>\n",
       "      <td>24</td>\n",
       "      <td>37560.37</td>\n",
       "      <td>...</td>\n",
       "      <td>1.016729</td>\n",
       "      <td>1704.53</td>\n",
       "      <td>5228.300</td>\n",
       "      <td>7145.959535</td>\n",
       "      <td>32248.64</td>\n",
       "      <td>5636.247698</td>\n",
       "      <td>614552.52</td>\n",
       "      <td>0.623260</td>\n",
       "      <td>1.220298</td>\n",
       "      <td>0.819472</td>\n",
       "    </tr>\n",
       "    <tr>\n",
       "      <th>3</th>\n",
       "      <td>039 - EXTRACRANIAL PROCEDURES W/O CC/MCC</td>\n",
       "      <td>10011</td>\n",
       "      <td>ST VINCENT'S EAST</td>\n",
       "      <td>50 MEDICAL PARK EAST DRIVE</td>\n",
       "      <td>BIRMINGHAM</td>\n",
       "      <td>AL</td>\n",
       "      <td>35235</td>\n",
       "      <td>AL - Birmingham</td>\n",
       "      <td>25</td>\n",
       "      <td>13998.28</td>\n",
       "      <td>...</td>\n",
       "      <td>0.504304</td>\n",
       "      <td>2076.82</td>\n",
       "      <td>4842.360</td>\n",
       "      <td>6810.429310</td>\n",
       "      <td>29393.46</td>\n",
       "      <td>5032.249163</td>\n",
       "      <td>592507.35</td>\n",
       "      <td>0.606300</td>\n",
       "      <td>1.312025</td>\n",
       "      <td>0.762181</td>\n",
       "    </tr>\n",
       "    <tr>\n",
       "      <th>4</th>\n",
       "      <td>039 - EXTRACRANIAL PROCEDURES W/O CC/MCC</td>\n",
       "      <td>10016</td>\n",
       "      <td>SHELBY BAPTIST MEDICAL CENTER</td>\n",
       "      <td>1000 FIRST STREET NORTH</td>\n",
       "      <td>ALABASTER</td>\n",
       "      <td>AL</td>\n",
       "      <td>35007</td>\n",
       "      <td>AL - Birmingham</td>\n",
       "      <td>18</td>\n",
       "      <td>31633.27</td>\n",
       "      <td>...</td>\n",
       "      <td>0.796244</td>\n",
       "      <td>2116.02</td>\n",
       "      <td>5183.575</td>\n",
       "      <td>6563.419000</td>\n",
       "      <td>29031.62</td>\n",
       "      <td>4435.211822</td>\n",
       "      <td>525073.52</td>\n",
       "      <td>0.739164</td>\n",
       "      <td>1.166320</td>\n",
       "      <td>0.857398</td>\n",
       "    </tr>\n",
       "  </tbody>\n",
       "</table>\n",
       "<p>5 rows × 72 columns</p>\n",
       "</div>"
      ],
      "text/plain": [
       "                             DRG Definition  Provider Id  \\\n",
       "0  039 - EXTRACRANIAL PROCEDURES W/O CC/MCC        10001   \n",
       "1  039 - EXTRACRANIAL PROCEDURES W/O CC/MCC        10005   \n",
       "2  039 - EXTRACRANIAL PROCEDURES W/O CC/MCC        10006   \n",
       "3  039 - EXTRACRANIAL PROCEDURES W/O CC/MCC        10011   \n",
       "4  039 - EXTRACRANIAL PROCEDURES W/O CC/MCC        10016   \n",
       "\n",
       "                      Provider Name     Provider Street Address Provider City  \\\n",
       "0  SOUTHEAST ALABAMA MEDICAL CENTER      1108 ROSS CLARK CIRCLE        DOTHAN   \n",
       "1     MARSHALL MEDICAL CENTER SOUTH  2505 U S HIGHWAY 431 NORTH          BOAZ   \n",
       "2    ELIZA COFFEE MEMORIAL HOSPITAL          205 MARENGO STREET      FLORENCE   \n",
       "3                 ST VINCENT'S EAST  50 MEDICAL PARK EAST DRIVE    BIRMINGHAM   \n",
       "4     SHELBY BAPTIST MEDICAL CENTER     1000 FIRST STREET NORTH     ALABASTER   \n",
       "\n",
       "  Provider State  Provider Zip Code Hospital Referral Region Description  \\\n",
       "0             AL              36301                          AL - Dothan   \n",
       "1             AL              35957                      AL - Birmingham   \n",
       "2             AL              35631                      AL - Birmingham   \n",
       "3             AL              35235                      AL - Birmingham   \n",
       "4             AL              35007                      AL - Birmingham   \n",
       "\n",
       "    Total Discharges    Average Covered Charges   ...  \\\n",
       "0                  91                   32963.07  ...   \n",
       "1                  14                   15131.85  ...   \n",
       "2                  24                   37560.37  ...   \n",
       "3                  25                   13998.28  ...   \n",
       "4                  18                   31633.27  ...   \n",
       "\n",
       "   avg covered charges/Average_Covered_Charges_by_Hospital  \\\n",
       "0                                           0.935201         \n",
       "1                                           0.919808         \n",
       "2                                           1.016729         \n",
       "3                                           0.504304         \n",
       "4                                           0.796244         \n",
       "\n",
       "   Minimum_Medicare_Payment_by_Hospital  Median_Medicare_Payment_by_Hospital  \\\n",
       "0                               2093.38                             5683.385   \n",
       "1                               2467.15                             4976.710   \n",
       "2                               1704.53                             5228.300   \n",
       "3                               2076.82                             4842.360   \n",
       "4                               2116.02                             5183.575   \n",
       "\n",
       "   Average_Medicare_Payment_by_Hospital  Maximum_Medicare_Payment_by_Hospital  \\\n",
       "0                           7678.214348                              32095.75   \n",
       "1                           5793.631429                              13342.72   \n",
       "2                           7145.959535                              32248.64   \n",
       "3                           6810.429310                              29393.46   \n",
       "4                           6563.419000                              29031.62   \n",
       "\n",
       "   STD_Medicare_Payment_by_Hospital  SUM_of_Medicare_Payment_by_Hospital  \\\n",
       "0                       5990.735366                            706395.72   \n",
       "1                       2784.451480                            283887.94   \n",
       "2                       5636.247698                            614552.52   \n",
       "3                       5032.249163                            592507.35   \n",
       "4                       4435.211822                            525073.52   \n",
       "\n",
       "   avg medicare payment/Average_Medicare_Payment_by_Hospital  \\\n",
       "0                                           0.620422           \n",
       "1                                           0.858997           \n",
       "2                                           0.623260           \n",
       "3                                           0.606300           \n",
       "4                                           0.739164           \n",
       "\n",
       "   charge/medicare ratio  percentage of medciare payment to total payment  \n",
       "0               1.212756                                         0.824568  \n",
       "1               1.162931                                         0.859896  \n",
       "2               1.220298                                         0.819472  \n",
       "3               1.312025                                         0.762181  \n",
       "4               1.166320                                         0.857398  \n",
       "\n",
       "[5 rows x 72 columns]"
      ]
     },
     "execution_count": 3,
     "metadata": {},
     "output_type": "execute_result"
    }
   ],
   "source": [
    "df.head()"
   ]
  },
  {
   "cell_type": "code",
   "execution_count": 4,
   "metadata": {},
   "outputs": [],
   "source": [
    "features = ['total discharge/Average_Total_Discharge_by_DRG_definition ratio',\n",
    "       'avg total payments/Average_Total_Payment_by_DRG_definition',\n",
    "       'avg total payments/Average_Total_Payment_by_DRG_definition_by_State',\n",
    "       'avg covered charges/Average_Average_Covered_charges_by_DRG_definition_by_State',\n",
    "       'avg medicare payment/Average_Average_Medicare_Payments_by_DRG_definition_by_State',\n",
    "       'total_discharges/Average_Total_Discharge_by_Hospital',\n",
    "       'avg total payment/Average_Total_Payment_by_Hospital',\n",
    "       'avg covered charges/Average_Covered_Charges_by_Hospital',\n",
    "       'avg medicare payment/Average_Medicare_Payment_by_Hospital',\n",
    "       'charge/medicare ratio',\n",
    "       'percentage of medciare payment to total payment']"
   ]
  },
  {
   "cell_type": "code",
   "execution_count": 5,
   "metadata": {},
   "outputs": [],
   "source": [
    "df_clustering = df[features]"
   ]
  },
  {
   "cell_type": "code",
   "execution_count": 6,
   "metadata": {},
   "outputs": [
    {
     "data": {
      "image/png": "[encoded data removed]",
      "text/plain": [
       "<Figure size 1440x1440 with 2 Axes>"
      ]
     },
     "metadata": {
      "needs_background": "light"
     },
     "output_type": "display_data"
    }
   ],
   "source": [
    "# Correlation Matrix with Heatmap\n",
    "X = df_clustering.iloc[::]  #independent columns\n",
    "y = df_clustering.iloc[::]    #target column i.e price range\n",
    "#get correlations of each features in dataset\n",
    "corrmat = df_clustering.corr()\n",
    "top_corr_features = corrmat.index\n",
    "plt.figure(figsize=(20,20))\n",
    "#plot heat map\n",
    "g=sns.heatmap(df_clustering[top_corr_features].corr(),annot=True,cmap=\"RdYlGn\")"
   ]
  },
  {
   "cell_type": "code",
   "execution_count": 7,
   "metadata": {},
   "outputs": [],
   "source": [
    "columns = np.full((corrmat.shape[0],), True, dtype=bool)\n",
    "for i in range(corrmat.shape[0]):\n",
    "    for j in range(i+1, corrmat.shape[0]):\n",
    "        if corrmat.iloc[i,j] >= 0.9:\n",
    "            if columns[j]:\n",
    "                columns[j] = False\n",
    "selected_columns = df_clustering.columns[columns]\n",
    "data = df_clustering[selected_columns]"
   ]
  },
  {
   "cell_type": "code",
   "execution_count": 8,
   "metadata": {},
   "outputs": [
    {
     "data": {
      "text/html": [
       "<div>\n",
       "<style scoped>\n",
       "    .dataframe tbody tr th:only-of-type {\n",
       "        vertical-align: middle;\n",
       "    }\n",
       "\n",
       "    .dataframe tbody tr th {\n",
       "        vertical-align: top;\n",
       "    }\n",
       "\n",
       "    .dataframe thead th {\n",
       "        text-align: right;\n",
       "    }\n",
       "</style>\n",
       "<table border=\"1\" class=\"dataframe\">\n",
       "  <thead>\n",
       "    <tr style=\"text-align: right;\">\n",
       "      <th></th>\n",
       "      <th>total discharge/Average_Total_Discharge_by_DRG_definition ratio</th>\n",
       "      <th>avg total payments/Average_Total_Payment_by_DRG_definition</th>\n",
       "      <th>avg total payments/Average_Total_Payment_by_DRG_definition_by_State</th>\n",
       "      <th>avg covered charges/Average_Average_Covered_charges_by_DRG_definition_by_State</th>\n",
       "      <th>avg medicare payment/Average_Average_Medicare_Payments_by_DRG_definition_by_State</th>\n",
       "      <th>total_discharges/Average_Total_Discharge_by_Hospital</th>\n",
       "      <th>avg total payment/Average_Total_Payment_by_Hospital</th>\n",
       "      <th>charge/medicare ratio</th>\n",
       "      <th>percentage of medciare payment to total payment</th>\n",
       "    </tr>\n",
       "  </thead>\n",
       "  <tbody>\n",
       "    <tr>\n",
       "      <th>0</th>\n",
       "      <td>2.921770</td>\n",
       "      <td>0.830000</td>\n",
       "      <td>1.005855</td>\n",
       "      <td>1.028667</td>\n",
       "      <td>1.035685</td>\n",
       "      <td>1.548936</td>\n",
       "      <td>0.660330</td>\n",
       "      <td>1.212756</td>\n",
       "      <td>0.824568</td>\n",
       "    </tr>\n",
       "    <tr>\n",
       "      <th>1</th>\n",
       "      <td>0.449503</td>\n",
       "      <td>0.831484</td>\n",
       "      <td>1.007653</td>\n",
       "      <td>0.472215</td>\n",
       "      <td>1.081989</td>\n",
       "      <td>0.483439</td>\n",
       "      <td>0.849598</td>\n",
       "      <td>1.162931</td>\n",
       "      <td>0.859896</td>\n",
       "    </tr>\n",
       "    <tr>\n",
       "      <th>2</th>\n",
       "      <td>0.770577</td>\n",
       "      <td>0.780824</td>\n",
       "      <td>0.946260</td>\n",
       "      <td>1.172134</td>\n",
       "      <td>0.968301</td>\n",
       "      <td>0.529095</td>\n",
       "      <td>0.663022</td>\n",
       "      <td>1.220298</td>\n",
       "      <td>0.819472</td>\n",
       "    </tr>\n",
       "    <tr>\n",
       "      <th>3</th>\n",
       "      <td>0.802684</td>\n",
       "      <td>0.778325</td>\n",
       "      <td>0.943232</td>\n",
       "      <td>0.436840</td>\n",
       "      <td>0.897723</td>\n",
       "      <td>0.745629</td>\n",
       "      <td>0.662160</td>\n",
       "      <td>1.312025</td>\n",
       "      <td>0.762181</td>\n",
       "    </tr>\n",
       "    <tr>\n",
       "      <th>4</th>\n",
       "      <td>0.577933</td>\n",
       "      <td>0.812916</td>\n",
       "      <td>0.985152</td>\n",
       "      <td>0.987169</td>\n",
       "      <td>1.054754</td>\n",
       "      <td>0.571655</td>\n",
       "      <td>0.726413</td>\n",
       "      <td>1.166320</td>\n",
       "      <td>0.857398</td>\n",
       "    </tr>\n",
       "  </tbody>\n",
       "</table>\n",
       "</div>"
      ],
      "text/plain": [
       "   total discharge/Average_Total_Discharge_by_DRG_definition ratio  \\\n",
       "0                                           2.921770                 \n",
       "1                                           0.449503                 \n",
       "2                                           0.770577                 \n",
       "3                                           0.802684                 \n",
       "4                                           0.577933                 \n",
       "\n",
       "   avg total payments/Average_Total_Payment_by_DRG_definition  \\\n",
       "0                                           0.830000            \n",
       "1                                           0.831484            \n",
       "2                                           0.780824            \n",
       "3                                           0.778325            \n",
       "4                                           0.812916            \n",
       "\n",
       "   avg total payments/Average_Total_Payment_by_DRG_definition_by_State  \\\n",
       "0                                           1.005855                     \n",
       "1                                           1.007653                     \n",
       "2                                           0.946260                     \n",
       "3                                           0.943232                     \n",
       "4                                           0.985152                     \n",
       "\n",
       "   avg covered charges/Average_Average_Covered_charges_by_DRG_definition_by_State  \\\n",
       "0                                           1.028667                                \n",
       "1                                           0.472215                                \n",
       "2                                           1.172134                                \n",
       "3                                           0.436840                                \n",
       "4                                           0.987169                                \n",
       "\n",
       "   avg medicare payment/Average_Average_Medicare_Payments_by_DRG_definition_by_State  \\\n",
       "0                                           1.035685                                   \n",
       "1                                           1.081989                                   \n",
       "2                                           0.968301                                   \n",
       "3                                           0.897723                                   \n",
       "4                                           1.054754                                   \n",
       "\n",
       "   total_discharges/Average_Total_Discharge_by_Hospital  \\\n",
       "0                                           1.548936      \n",
       "1                                           0.483439      \n",
       "2                                           0.529095      \n",
       "3                                           0.745629      \n",
       "4                                           0.571655      \n",
       "\n",
       "   avg total payment/Average_Total_Payment_by_Hospital  charge/medicare ratio  \\\n",
       "0                                           0.660330                 1.212756   \n",
       "1                                           0.849598                 1.162931   \n",
       "2                                           0.663022                 1.220298   \n",
       "3                                           0.662160                 1.312025   \n",
       "4                                           0.726413                 1.166320   \n",
       "\n",
       "   percentage of medciare payment to total payment  \n",
       "0                                         0.824568  \n",
       "1                                         0.859896  \n",
       "2                                         0.819472  \n",
       "3                                         0.762181  \n",
       "4                                         0.857398  "
      ]
     },
     "execution_count": 8,
     "metadata": {},
     "output_type": "execute_result"
    }
   ],
   "source": [
    "data.head()"
   ]
  },
  {
   "cell_type": "code",
   "execution_count": 11,
   "metadata": {},
   "outputs": [],
   "source": [
    "standardized_data = preprocessing.scale(data)"
   ]
  },
  {
   "cell_type": "code",
   "execution_count": 12,
   "metadata": {},
   "outputs": [
    {
     "name": "stdout",
     "output_type": "stream",
     "text": [
      "[[ 2.52841218 -0.68477316  0.02998315 ... -0.49906783  0.09263843\n",
      "  -0.24998292]\n",
      " [-0.72427148 -0.67879518  0.03919344 ... -0.22098192 -0.20071286\n",
      "   0.15187496]\n",
      " [-0.30184503 -0.88285665 -0.27520458 ... -0.49511176  0.13704458\n",
      "  -0.30795457]\n",
      " ...\n",
      " [-0.42655941  0.73434877  1.18693404 ... -0.54837355  1.22794162\n",
      "  -1.53673215]\n",
      " [-0.80092113  2.36963925  3.35292857 ... -0.46173141 -0.45973047\n",
      "   0.53645004]\n",
      " [-0.75412592 -1.07282532 -1.20672585 ... -0.6986666   0.17017977\n",
      "  -0.35074742]]\n"
     ]
    }
   ],
   "source": [
    "print(standardized_data)"
   ]
  },
  {
   "cell_type": "code",
   "execution_count": 34,
   "metadata": {},
   "outputs": [
    {
     "name": "stdout",
     "output_type": "stream",
     "text": [
      "training data has 122298 observation with 9 features\n",
      "test data has 40767 observation with 9 features\n"
     ]
    }
   ],
   "source": [
    "from sklearn import model_selection\n",
    "\n",
    "# Reserve 25% for testing\n",
    "X_train, X_test = model_selection.train_test_split(standardized_data, test_size=0.25, random_state=1)\n",
    "\n",
    "print('training data has ' + str(X_train.shape[0]) + ' observation with ' + str(X_train.shape[1]) + ' features')\n",
    "print('test data has ' + str(X_test.shape[0]) + ' observation with ' + str(X_test.shape[1]) + ' features')"
   ]
  },
  {
   "source": [
    "# Part 2: Modeling with unsupervised learning algorithms"
   ],
   "cell_type": "markdown",
   "metadata": {}
  },
  {
   "cell_type": "markdown",
   "metadata": {},
   "source": [
    "# Model 1:  I Forest"
   ]
  },
  {
   "cell_type": "markdown",
   "metadata": {},
   "source": [
    "## IFOREST MODEL 1"
   ]
  },
  {
   "cell_type": "code",
   "execution_count": 35,
   "metadata": {},
   "outputs": [
    {
     "data": {
      "text/plain": [
       "IForest(behaviour='new', bootstrap=False, contamination=0.1, max_features=1.0,\n",
       "    max_samples=60, n_estimators=100, n_jobs=1, random_state=None,\n",
       "    verbose=0)"
      ]
     },
     "execution_count": 35,
     "metadata": {},
     "output_type": "execute_result"
    }
   ],
   "source": [
    "clf1 = IForest(behaviour=\"new\", max_samples=60) \n",
    "clf1.fit(X_train)"
   ]
  },
  {
   "cell_type": "code",
   "execution_count": 37,
   "metadata": {},
   "outputs": [
    {
     "data": {
      "image/png": "[encoded data removed]",
      "text/plain": [
       "<Figure size 432x288 with 1 Axes>"
      ]
     },
     "metadata": {
      "needs_background": "light"
     },
     "output_type": "display_data"
    }
   ],
   "source": [
    "# clf.decision_function: Predict raw anomaly score of X using the fitted detector.\n",
    "X_test_scores = clf1.decision_function(standardized_data)  # outlier scores\n",
    "X_test_scores = pd.DataFrame(X_test_scores)\n",
    "X_test_scores.head()\n",
    "\n",
    "plt.hist(X_test_scores, bins='auto')  # arguments are passed to np.histogram\n",
    "plt.title(\"Histogram for Model clf1 Anomaly Scores\")\n",
    "plt.show()"
   ]
  },
  {
   "cell_type": "code",
   "execution_count": 38,
   "metadata": {},
   "outputs": [
    {
     "data": {
      "text/plain": [
       "0    161944\n",
       "1      1121\n",
       "Name: cluster, dtype: int64"
      ]
     },
     "execution_count": 38,
     "metadata": {},
     "output_type": "execute_result"
    }
   ],
   "source": [
    "X_test_cluster = standardized_data.copy()\n",
    "X_test_cluster = pd.DataFrame(X_test_cluster)\n",
    "X_test_cluster['distance'] = X_test_scores\n",
    "X_test_cluster['cluster'] = np.where(X_test_cluster['distance']<0.1, 0, 1)\n",
    "X_test_cluster['cluster'].value_counts()"
   ]
  },
  {
   "cell_type": "code",
   "execution_count": 39,
   "metadata": {},
   "outputs": [
    {
     "data": {
      "text/html": [
       "<div>\n",
       "<style scoped>\n",
       "    .dataframe tbody tr th:only-of-type {\n",
       "        vertical-align: middle;\n",
       "    }\n",
       "\n",
       "    .dataframe tbody tr th {\n",
       "        vertical-align: top;\n",
       "    }\n",
       "\n",
       "    .dataframe thead th {\n",
       "        text-align: right;\n",
       "    }\n",
       "</style>\n",
       "<table border=\"1\" class=\"dataframe\">\n",
       "  <thead>\n",
       "    <tr style=\"text-align: right;\">\n",
       "      <th></th>\n",
       "      <th>0</th>\n",
       "      <th>1</th>\n",
       "      <th>2</th>\n",
       "      <th>3</th>\n",
       "      <th>4</th>\n",
       "      <th>5</th>\n",
       "      <th>6</th>\n",
       "      <th>7</th>\n",
       "      <th>8</th>\n",
       "      <th>distance</th>\n",
       "    </tr>\n",
       "    <tr>\n",
       "      <th>cluster</th>\n",
       "      <th></th>\n",
       "      <th></th>\n",
       "      <th></th>\n",
       "      <th></th>\n",
       "      <th></th>\n",
       "      <th></th>\n",
       "      <th></th>\n",
       "      <th></th>\n",
       "      <th></th>\n",
       "      <th></th>\n",
       "    </tr>\n",
       "  </thead>\n",
       "  <tbody>\n",
       "    <tr>\n",
       "      <th>0</th>\n",
       "      <td>-0.004530</td>\n",
       "      <td>-0.025814</td>\n",
       "      <td>-0.027781</td>\n",
       "      <td>-0.017030</td>\n",
       "      <td>-0.019356</td>\n",
       "      <td>-0.004042</td>\n",
       "      <td>-0.010304</td>\n",
       "      <td>-0.010349</td>\n",
       "      <td>0.003342</td>\n",
       "      <td>-0.074855</td>\n",
       "    </tr>\n",
       "    <tr>\n",
       "      <th>1</th>\n",
       "      <td>0.654351</td>\n",
       "      <td>3.729167</td>\n",
       "      <td>4.013373</td>\n",
       "      <td>2.460165</td>\n",
       "      <td>2.796289</td>\n",
       "      <td>0.583905</td>\n",
       "      <td>1.488562</td>\n",
       "      <td>1.495036</td>\n",
       "      <td>-0.482866</td>\n",
       "      <td>0.124614</td>\n",
       "    </tr>\n",
       "  </tbody>\n",
       "</table>\n",
       "</div>"
      ],
      "text/plain": [
       "                0         1         2         3         4         5         6  \\\n",
       "cluster                                                                         \n",
       "0       -0.004530 -0.025814 -0.027781 -0.017030 -0.019356 -0.004042 -0.010304   \n",
       "1        0.654351  3.729167  4.013373  2.460165  2.796289  0.583905  1.488562   \n",
       "\n",
       "                7         8  distance  \n",
       "cluster                                \n",
       "0       -0.010349  0.003342 -0.074855  \n",
       "1        1.495036 -0.482866  0.124614  "
      ]
     },
     "execution_count": 39,
     "metadata": {},
     "output_type": "execute_result"
    }
   ],
   "source": [
    "X_test_cluster.groupby('cluster').mean()"
   ]
  },
  {
   "cell_type": "markdown",
   "metadata": {},
   "source": [
    "## IFOREST MODEL 2"
   ]
  },
  {
   "cell_type": "code",
   "execution_count": 40,
   "metadata": {},
   "outputs": [
    {
     "data": {
      "text/plain": [
       "IForest(behaviour='new', bootstrap=False, contamination=0.1, max_features=1.0,\n",
       "    max_samples=80, n_estimators=100, n_jobs=1, random_state=None,\n",
       "    verbose=0)"
      ]
     },
     "execution_count": 40,
     "metadata": {},
     "output_type": "execute_result"
    }
   ],
   "source": [
    "clf2 = IForest(behaviour=\"new\", max_samples=80) \n",
    "clf2.fit(X_train)"
   ]
  },
  {
   "cell_type": "code",
   "execution_count": 41,
   "metadata": {},
   "outputs": [
    {
     "data": {
      "image/png": "[encoded data removed]",
      "text/plain": [
       "<Figure size 432x288 with 1 Axes>"
      ]
     },
     "metadata": {
      "needs_background": "light"
     },
     "output_type": "display_data"
    }
   ],
   "source": [
    "# clf.decision_function: Predict raw anomaly score of X using the fitted detector.\n",
    "X_test_scores = clf1.decision_function(standardized_data)  # outlier scores\n",
    "X_test_scores = pd.DataFrame(X_test_scores)\n",
    "X_test_scores.head()\n",
    "\n",
    "plt.hist(X_test_scores, bins='auto')  # arguments are passed to np.histogram\n",
    "plt.title(\"Histogram for Model clf1 Anomaly Scores\")\n",
    "plt.show()"
   ]
  },
  {
   "cell_type": "code",
   "execution_count": 42,
   "metadata": {},
   "outputs": [
    {
     "data": {
      "text/plain": [
       "0    161944\n",
       "1      1121\n",
       "Name: cluster, dtype: int64"
      ]
     },
     "execution_count": 42,
     "metadata": {},
     "output_type": "execute_result"
    }
   ],
   "source": [
    "X_test_cluster = standardized_data.copy()\n",
    "X_test_cluster = pd.DataFrame(X_test_cluster)\n",
    "X_test_cluster['distance'] = X_test_scores\n",
    "X_test_cluster['cluster'] = np.where(X_test_cluster['distance']<0.1, 0, 1)\n",
    "X_test_cluster['cluster'].value_counts()"
   ]
  },
  {
   "cell_type": "code",
   "execution_count": 43,
   "metadata": {},
   "outputs": [
    {
     "data": {
      "text/html": [
       "<div>\n",
       "<style scoped>\n",
       "    .dataframe tbody tr th:only-of-type {\n",
       "        vertical-align: middle;\n",
       "    }\n",
       "\n",
       "    .dataframe tbody tr th {\n",
       "        vertical-align: top;\n",
       "    }\n",
       "\n",
       "    .dataframe thead th {\n",
       "        text-align: right;\n",
       "    }\n",
       "</style>\n",
       "<table border=\"1\" class=\"dataframe\">\n",
       "  <thead>\n",
       "    <tr style=\"text-align: right;\">\n",
       "      <th></th>\n",
       "      <th>0</th>\n",
       "      <th>1</th>\n",
       "      <th>2</th>\n",
       "      <th>3</th>\n",
       "      <th>4</th>\n",
       "      <th>5</th>\n",
       "      <th>6</th>\n",
       "      <th>7</th>\n",
       "      <th>8</th>\n",
       "      <th>distance</th>\n",
       "    </tr>\n",
       "    <tr>\n",
       "      <th>cluster</th>\n",
       "      <th></th>\n",
       "      <th></th>\n",
       "      <th></th>\n",
       "      <th></th>\n",
       "      <th></th>\n",
       "      <th></th>\n",
       "      <th></th>\n",
       "      <th></th>\n",
       "      <th></th>\n",
       "      <th></th>\n",
       "    </tr>\n",
       "  </thead>\n",
       "  <tbody>\n",
       "    <tr>\n",
       "      <th>0</th>\n",
       "      <td>-0.004530</td>\n",
       "      <td>-0.025814</td>\n",
       "      <td>-0.027781</td>\n",
       "      <td>-0.017030</td>\n",
       "      <td>-0.019356</td>\n",
       "      <td>-0.004042</td>\n",
       "      <td>-0.010304</td>\n",
       "      <td>-0.010349</td>\n",
       "      <td>0.003342</td>\n",
       "      <td>-0.074855</td>\n",
       "    </tr>\n",
       "    <tr>\n",
       "      <th>1</th>\n",
       "      <td>0.654351</td>\n",
       "      <td>3.729167</td>\n",
       "      <td>4.013373</td>\n",
       "      <td>2.460165</td>\n",
       "      <td>2.796289</td>\n",
       "      <td>0.583905</td>\n",
       "      <td>1.488562</td>\n",
       "      <td>1.495036</td>\n",
       "      <td>-0.482866</td>\n",
       "      <td>0.124614</td>\n",
       "    </tr>\n",
       "  </tbody>\n",
       "</table>\n",
       "</div>"
      ],
      "text/plain": [
       "                0         1         2         3         4         5         6  \\\n",
       "cluster                                                                         \n",
       "0       -0.004530 -0.025814 -0.027781 -0.017030 -0.019356 -0.004042 -0.010304   \n",
       "1        0.654351  3.729167  4.013373  2.460165  2.796289  0.583905  1.488562   \n",
       "\n",
       "                7         8  distance  \n",
       "cluster                                \n",
       "0       -0.010349  0.003342 -0.074855  \n",
       "1        1.495036 -0.482866  0.124614  "
      ]
     },
     "execution_count": 43,
     "metadata": {},
     "output_type": "execute_result"
    }
   ],
   "source": [
    "X_test_cluster.groupby('cluster').mean()"
   ]
  },
  {
   "cell_type": "markdown",
   "metadata": {},
   "source": [
    "## IFOREST MODEL 3"
   ]
  },
  {
   "cell_type": "code",
   "execution_count": 44,
   "metadata": {},
   "outputs": [
    {
     "data": {
      "text/plain": [
       "IForest(behaviour='new', bootstrap=False, contamination=0.1, max_features=1.0,\n",
       "    max_samples=100, n_estimators=100, n_jobs=1, random_state=None,\n",
       "    verbose=0)"
      ]
     },
     "execution_count": 44,
     "metadata": {},
     "output_type": "execute_result"
    }
   ],
   "source": [
    "clf3 = IForest(behaviour=\"new\", max_samples=100) \n",
    "clf3.fit(X_train)"
   ]
  },
  {
   "cell_type": "code",
   "execution_count": 45,
   "metadata": {},
   "outputs": [
    {
     "data": {
      "image/png": "[encoded data removed]",
      "text/plain": [
       "<Figure size 432x288 with 1 Axes>"
      ]
     },
     "metadata": {
      "needs_background": "light"
     },
     "output_type": "display_data"
    }
   ],
   "source": [
    "# clf.decision_function: Predict raw anomaly score of X using the fitted detector.\n",
    "X_test_scores = clf3.decision_function(standardized_data)  # outlier scores\n",
    "X_test_scores = pd.DataFrame(X_test_scores)\n",
    "X_test_scores.head()\n",
    "\n",
    "plt.hist(X_test_scores, bins='auto')  # arguments are passed to np.histogram\n",
    "plt.title(\"Histogram for Model clf1 Anomaly Scores\")\n",
    "plt.show()"
   ]
  },
  {
   "cell_type": "code",
   "execution_count": 46,
   "metadata": {},
   "outputs": [
    {
     "data": {
      "text/plain": [
       "0    162822\n",
       "1       243\n",
       "Name: cluster, dtype: int64"
      ]
     },
     "execution_count": 46,
     "metadata": {},
     "output_type": "execute_result"
    }
   ],
   "source": [
    "X_test_cluster = standardized_data.copy()\n",
    "X_test_cluster = pd.DataFrame(X_test_cluster)\n",
    "X_test_cluster['distance'] = X_test_scores\n",
    "X_test_cluster['cluster'] = np.where(X_test_cluster['distance']<0.15, 0, 1)\n",
    "X_test_cluster['cluster'].value_counts()"
   ]
  },
  {
   "cell_type": "code",
   "execution_count": 47,
   "metadata": {},
   "outputs": [
    {
     "data": {
      "text/html": [
       "<div>\n",
       "<style scoped>\n",
       "    .dataframe tbody tr th:only-of-type {\n",
       "        vertical-align: middle;\n",
       "    }\n",
       "\n",
       "    .dataframe tbody tr th {\n",
       "        vertical-align: top;\n",
       "    }\n",
       "\n",
       "    .dataframe thead th {\n",
       "        text-align: right;\n",
       "    }\n",
       "</style>\n",
       "<table border=\"1\" class=\"dataframe\">\n",
       "  <thead>\n",
       "    <tr style=\"text-align: right;\">\n",
       "      <th></th>\n",
       "      <th>0</th>\n",
       "      <th>1</th>\n",
       "      <th>2</th>\n",
       "      <th>3</th>\n",
       "      <th>4</th>\n",
       "      <th>5</th>\n",
       "      <th>6</th>\n",
       "      <th>7</th>\n",
       "      <th>8</th>\n",
       "      <th>distance</th>\n",
       "    </tr>\n",
       "    <tr>\n",
       "      <th>cluster</th>\n",
       "      <th></th>\n",
       "      <th></th>\n",
       "      <th></th>\n",
       "      <th></th>\n",
       "      <th></th>\n",
       "      <th></th>\n",
       "      <th></th>\n",
       "      <th></th>\n",
       "      <th></th>\n",
       "      <th></th>\n",
       "    </tr>\n",
       "  </thead>\n",
       "  <tbody>\n",
       "    <tr>\n",
       "      <th>0</th>\n",
       "      <td>-0.000709</td>\n",
       "      <td>-0.008574</td>\n",
       "      <td>-0.009192</td>\n",
       "      <td>-0.003770</td>\n",
       "      <td>-0.004188</td>\n",
       "      <td>-0.000185</td>\n",
       "      <td>-0.003507</td>\n",
       "      <td>-0.007845</td>\n",
       "      <td>0.003138</td>\n",
       "      <td>-0.084521</td>\n",
       "    </tr>\n",
       "    <tr>\n",
       "      <th>1</th>\n",
       "      <td>0.474846</td>\n",
       "      <td>5.744986</td>\n",
       "      <td>6.159080</td>\n",
       "      <td>2.525882</td>\n",
       "      <td>2.806493</td>\n",
       "      <td>0.124260</td>\n",
       "      <td>2.349794</td>\n",
       "      <td>5.256584</td>\n",
       "      <td>-2.102865</td>\n",
       "      <td>0.169654</td>\n",
       "    </tr>\n",
       "  </tbody>\n",
       "</table>\n",
       "</div>"
      ],
      "text/plain": [
       "                0         1         2         3         4         5         6  \\\n",
       "cluster                                                                         \n",
       "0       -0.000709 -0.008574 -0.009192 -0.003770 -0.004188 -0.000185 -0.003507   \n",
       "1        0.474846  5.744986  6.159080  2.525882  2.806493  0.124260  2.349794   \n",
       "\n",
       "                7         8  distance  \n",
       "cluster                                \n",
       "0       -0.007845  0.003138 -0.084521  \n",
       "1        5.256584 -2.102865  0.169654  "
      ]
     },
     "execution_count": 47,
     "metadata": {},
     "output_type": "execute_result"
    }
   ],
   "source": [
    "X_test_cluster.groupby('cluster').mean()"
   ]
  },
  {
   "cell_type": "markdown",
   "metadata": {},
   "source": [
    "## Aggregate to Achieve Model Stability"
   ]
  },
  {
   "cell_type": "code",
   "execution_count": 48,
   "metadata": {},
   "outputs": [
    {
     "name": "stderr",
     "output_type": "stream",
     "text": [
      "/opt/miniconda3/lib/python3.8/site-packages/sklearn/utils/deprecation.py:143: FutureWarning: The sklearn.utils.testing module is  deprecated in version 0.22 and will be removed in version 0.24. The corresponding classes / functions should instead be imported from sklearn.utils. Anything that cannot be imported from sklearn.utils is now part of the private API.\n",
      "  warnings.warn(message, FutureWarning)\n"
     ]
    }
   ],
   "source": [
    "#Aggregate to achieve model stability\n",
    "from pyod.models.combination import aom, moa, average, maximization\n",
    "from pyod.utils.utility import standardizer\n",
    "\n",
    "# The predictions of the training data can be obtained by clf.decision_scores_.\n",
    "# It is already generated during the model building process.\n",
    "train_scores = pd.DataFrame({'clf1': clf1.decision_scores_,\n",
    "                             'clf2': clf2.decision_scores_,\n",
    "                             'clf3': clf3.decision_scores_\n",
    "                            })\n",
    "\n",
    "# The predictions of the test data need to be predicted using clf.decision_function(X_test)\n",
    "test_scores  = pd.DataFrame({'clf1': clf1.decision_function(standardized_data),\n",
    "                             'clf2': clf2.decision_function(standardized_data),\n",
    "                             'clf3': clf3.decision_function(standardized_data) \n",
    "                            })"
   ]
  },
  {
   "cell_type": "code",
   "execution_count": 49,
   "metadata": {},
   "outputs": [
    {
     "data": {
      "text/plain": [
       "(122298, 3)"
      ]
     },
     "execution_count": 49,
     "metadata": {},
     "output_type": "execute_result"
    }
   ],
   "source": [
    "#standardization for the decision scores\n",
    "train_scores_norm, test_scores_norm = standardizer(train_scores,test_scores)\n",
    "train_scores_norm.shape"
   ]
  },
  {
   "cell_type": "code",
   "execution_count": 50,
   "metadata": {},
   "outputs": [
    {
     "data": {
      "image/png": "[encoded data removed]",
      "text/plain": [
       "<Figure size 432x288 with 1 Axes>"
      ]
     },
     "metadata": {
      "needs_background": "light"
     },
     "output_type": "display_data"
    }
   ],
   "source": [
    "# Combination by average\n",
    "x_by_average = average(test_scores_norm)\n",
    "             \n",
    "import matplotlib.pyplot as plt\n",
    "plt.hist(x_by_average, bins='auto')  # arguments are passed to np.histogram\n",
    "plt.title(\"Combination by average\")\n",
    "plt.show()"
   ]
  },
  {
   "cell_type": "code",
   "execution_count": 54,
   "metadata": {},
   "outputs": [
    {
     "data": {
      "text/plain": [
       "0    162837\n",
       "1       228\n",
       "Name: x_by_average_cluster, dtype: int64"
      ]
     },
     "execution_count": 54,
     "metadata": {},
     "output_type": "execute_result"
    }
   ],
   "source": [
    "df_test = standardized_data.copy()\n",
    "df_test = pd.DataFrame(df_test)\n",
    "df_test['x_by_average_score'] = x_by_average\n",
    "df_test['x_by_average_cluster'] = np.where(df_test['x_by_average_score']<4, 0, 1)\n",
    "df_test['x_by_average_cluster'].value_counts()"
   ]
  },
  {
   "cell_type": "code",
   "execution_count": 55,
   "metadata": {},
   "outputs": [
    {
     "data": {
      "text/html": [
       "<div>\n",
       "<style scoped>\n",
       "    .dataframe tbody tr th:only-of-type {\n",
       "        vertical-align: middle;\n",
       "    }\n",
       "\n",
       "    .dataframe tbody tr th {\n",
       "        vertical-align: top;\n",
       "    }\n",
       "\n",
       "    .dataframe thead th {\n",
       "        text-align: right;\n",
       "    }\n",
       "</style>\n",
       "<table border=\"1\" class=\"dataframe\">\n",
       "  <thead>\n",
       "    <tr style=\"text-align: right;\">\n",
       "      <th></th>\n",
       "      <th>0</th>\n",
       "      <th>1</th>\n",
       "      <th>2</th>\n",
       "      <th>3</th>\n",
       "      <th>4</th>\n",
       "      <th>5</th>\n",
       "      <th>6</th>\n",
       "      <th>7</th>\n",
       "      <th>8</th>\n",
       "      <th>x_by_average_score</th>\n",
       "    </tr>\n",
       "    <tr>\n",
       "      <th>x_by_average_cluster</th>\n",
       "      <th></th>\n",
       "      <th></th>\n",
       "      <th></th>\n",
       "      <th></th>\n",
       "      <th></th>\n",
       "      <th></th>\n",
       "      <th></th>\n",
       "      <th></th>\n",
       "      <th></th>\n",
       "      <th></th>\n",
       "    </tr>\n",
       "  </thead>\n",
       "  <tbody>\n",
       "    <tr>\n",
       "      <th>0</th>\n",
       "      <td>-0.00</td>\n",
       "      <td>-0.01</td>\n",
       "      <td>-0.01</td>\n",
       "      <td>-0.00</td>\n",
       "      <td>-0.00</td>\n",
       "      <td>-0.00</td>\n",
       "      <td>-0.00</td>\n",
       "      <td>-0.01</td>\n",
       "      <td>0.00</td>\n",
       "      <td>-0.01</td>\n",
       "    </tr>\n",
       "    <tr>\n",
       "      <th>1</th>\n",
       "      <td>0.53</td>\n",
       "      <td>5.75</td>\n",
       "      <td>6.18</td>\n",
       "      <td>2.85</td>\n",
       "      <td>2.94</td>\n",
       "      <td>0.28</td>\n",
       "      <td>2.38</td>\n",
       "      <td>5.12</td>\n",
       "      <td>-1.96</td>\n",
       "      <td>4.34</td>\n",
       "    </tr>\n",
       "  </tbody>\n",
       "</table>\n",
       "</div>"
      ],
      "text/plain": [
       "                         0     1     2     3     4     5     6     7     8  \\\n",
       "x_by_average_cluster                                                         \n",
       "0                    -0.00 -0.01 -0.01 -0.00 -0.00 -0.00 -0.00 -0.01  0.00   \n",
       "1                     0.53  5.75  6.18  2.85  2.94  0.28  2.38  5.12 -1.96   \n",
       "\n",
       "                      x_by_average_score  \n",
       "x_by_average_cluster                      \n",
       "0                                  -0.01  \n",
       "1                                   4.34  "
      ]
     },
     "execution_count": 55,
     "metadata": {},
     "output_type": "execute_result"
    }
   ],
   "source": [
    "df_test.groupby('x_by_average_cluster').mean().round(2)"
   ]
  },
  {
   "cell_type": "markdown",
   "metadata": {},
   "source": [
    "# Isolated Forest is an anomaly detection algorithm that find the norm first, and then identify observations that do not conform to the norm. This model explicitly isolates anomalies instead of profiling normal data points, exposing outliers that usually have short path lenths on a tree. In this case, I have built three models and aggregated the statistics to achieve model stability. On the chart above, cluster 1 is identified as the anomalous cluster, that counts for 0.14% of the entire dataset. Cluster 1 has a much higher number in average total payments that are represented by column 1,2,and 7 compared to cluster0. Cluster 1 also has a very high x_by_average_score and this suggests that this group of points are much farther away from the forest, that is the norm. This is anomalous and needs to be further investigated. "
   ]
  },
  {
   "cell_type": "markdown",
   "metadata": {},
   "source": [
    "# Model 2:  Autoencoders"
   ]
  },
  {
   "cell_type": "code",
   "execution_count": 60,
   "metadata": {},
   "outputs": [],
   "source": [
    "from pyod.models.auto_encoder import AutoEncoder\n",
    "from pyod.utils.data import generate_data"
   ]
  },
  {
   "cell_type": "markdown",
   "metadata": {},
   "source": [
    "### Model 1: [25, 2, 2, 25]. The input layer and the output layer has 25 neurons each. There are two hidden layers, each has two neurons."
   ]
  },
  {
   "cell_type": "code",
   "execution_count": 66,
   "metadata": {
    "scrolled": true
   },
   "outputs": [
    {
     "name": "stdout",
     "output_type": "stream",
     "text": [
      "Model: \"sequential_1\"\n",
      "_________________________________________________________________\n",
      "Layer (type)                 Output Shape              Param #   \n",
      "=================================================================\n",
      "dense_7 (Dense)              (None, 9)                 90        \n",
      "_________________________________________________________________\n",
      "dropout_6 (Dropout)          (None, 9)                 0         \n",
      "_________________________________________________________________\n",
      "dense_8 (Dense)              (None, 9)                 90        \n",
      "_________________________________________________________________\n",
      "dropout_7 (Dropout)          (None, 9)                 0         \n",
      "_________________________________________________________________\n",
      "dense_9 (Dense)              (None, 25)                250       \n",
      "_________________________________________________________________\n",
      "dropout_8 (Dropout)          (None, 25)                0         \n",
      "_________________________________________________________________\n",
      "dense_10 (Dense)             (None, 2)                 52        \n",
      "_________________________________________________________________\n",
      "dropout_9 (Dropout)          (None, 2)                 0         \n",
      "_________________________________________________________________\n",
      "dense_11 (Dense)             (None, 2)                 6         \n",
      "_________________________________________________________________\n",
      "dropout_10 (Dropout)         (None, 2)                 0         \n",
      "_________________________________________________________________\n",
      "dense_12 (Dense)             (None, 25)                75        \n",
      "_________________________________________________________________\n",
      "dropout_11 (Dropout)         (None, 25)                0         \n",
      "_________________________________________________________________\n",
      "dense_13 (Dense)             (None, 9)                 234       \n",
      "=================================================================\n",
      "Total params: 797\n",
      "Trainable params: 797\n",
      "Non-trainable params: 0\n",
      "_________________________________________________________________\n",
      "None\n",
      "Epoch 1/10\n",
      "3440/3440 [==============================] - 5s 2ms/step - loss: 1.1173 - val_loss: 0.9721\n",
      "Epoch 2/10\n",
      "3440/3440 [==============================] - 5s 1ms/step - loss: 1.0180 - val_loss: 0.9569\n",
      "Epoch 3/10\n",
      "3440/3440 [==============================] - 5s 2ms/step - loss: 1.0091 - val_loss: 0.9531\n",
      "Epoch 4/10\n",
      "3440/3440 [==============================] - 5s 1ms/step - loss: 1.0068 - val_loss: 0.9520\n",
      "Epoch 5/10\n",
      "3440/3440 [==============================] - 5s 1ms/step - loss: 1.0060 - val_loss: 0.9516\n",
      "Epoch 6/10\n",
      "3440/3440 [==============================] - 5s 2ms/step - loss: 1.0057 - val_loss: 0.9514\n",
      "Epoch 7/10\n",
      "3440/3440 [==============================] - 5s 2ms/step - loss: 1.0056 - val_loss: 0.9513\n",
      "Epoch 8/10\n",
      "3440/3440 [==============================] - 5s 1ms/step - loss: 1.0055 - val_loss: 0.9513\n",
      "Epoch 9/10\n",
      "3440/3440 [==============================] - 5s 1ms/step - loss: 1.0055 - val_loss: 0.9512\n",
      "Epoch 10/10\n",
      "3440/3440 [==============================] - 5s 2ms/step - loss: 1.0055 - val_loss: 0.9512\n"
     ]
    },
    {
     "data": {
      "text/plain": [
       "AutoEncoder(batch_size=32, contamination=0.1, dropout_rate=0.2, epochs=10,\n",
       "      hidden_activation='relu', hidden_neurons=[25, 2, 2, 25],\n",
       "      l2_regularizer=0.1,\n",
       "      loss=<function mean_squared_error at 0x13936daf0>, optimizer='adam',\n",
       "      output_activation='sigmoid', preprocessing=True, random_state=None,\n",
       "      validation_size=0.1, verbose=1)"
      ]
     },
     "execution_count": 66,
     "metadata": {},
     "output_type": "execute_result"
    }
   ],
   "source": [
    "clf1 = AutoEncoder(hidden_neurons =[25, 2, 2, 25],epochs=10)\n",
    "clf1.fit(X_train)"
   ]
  },
  {
   "cell_type": "code",
   "execution_count": 69,
   "metadata": {},
   "outputs": [
    {
     "data": {
      "image/png": "[encoded data removed]",
      "text/plain": [
       "<Figure size 432x288 with 1 Axes>"
      ]
     },
     "metadata": {
      "needs_background": "light"
     },
     "output_type": "display_data"
    }
   ],
   "source": [
    "# Get the outlier scores for the train data\n",
    "x_train_scores = clf1.decision_scores_  \n",
    "\n",
    "# Predict the anomaly scores\n",
    "x_test_scores = clf1.decision_function(standardized_data)  # outlier scores\n",
    "x_test_scores = pd.Series(x_test_scores)\n",
    "\n",
    "# Plot it!\n",
    "import matplotlib.pyplot as plt\n",
    "plt.hist(x_test_scores, bins='auto')  \n",
    "plt.title(\"Histogram for Model Clf1 Anomaly Scores\")\n",
    "plt.show()"
   ]
  },
  {
   "cell_type": "code",
   "execution_count": 70,
   "metadata": {},
   "outputs": [
    {
     "data": {
      "text/plain": [
       "0    162448\n",
       "1       617\n",
       "Name: cluster, dtype: int64"
      ]
     },
     "execution_count": 70,
     "metadata": {},
     "output_type": "execute_result"
    }
   ],
   "source": [
    "standardized_data = pd.DataFrame(standardized_data)\n",
    "df_test = standardized_data.copy()\n",
    "df_test['score'] = x_test_scores\n",
    "df_test['cluster'] = np.where(df_test['score']<10, 0, 1)\n",
    "df_test['cluster'].value_counts()"
   ]
  },
  {
   "cell_type": "code",
   "execution_count": 71,
   "metadata": {},
   "outputs": [
    {
     "data": {
      "text/html": [
       "<div>\n",
       "<style scoped>\n",
       "    .dataframe tbody tr th:only-of-type {\n",
       "        vertical-align: middle;\n",
       "    }\n",
       "\n",
       "    .dataframe tbody tr th {\n",
       "        vertical-align: top;\n",
       "    }\n",
       "\n",
       "    .dataframe thead th {\n",
       "        text-align: right;\n",
       "    }\n",
       "</style>\n",
       "<table border=\"1\" class=\"dataframe\">\n",
       "  <thead>\n",
       "    <tr style=\"text-align: right;\">\n",
       "      <th></th>\n",
       "      <th>0</th>\n",
       "      <th>1</th>\n",
       "      <th>2</th>\n",
       "      <th>3</th>\n",
       "      <th>4</th>\n",
       "      <th>5</th>\n",
       "      <th>6</th>\n",
       "      <th>7</th>\n",
       "      <th>8</th>\n",
       "      <th>score</th>\n",
       "    </tr>\n",
       "    <tr>\n",
       "      <th>cluster</th>\n",
       "      <th></th>\n",
       "      <th></th>\n",
       "      <th></th>\n",
       "      <th></th>\n",
       "      <th></th>\n",
       "      <th></th>\n",
       "      <th></th>\n",
       "      <th></th>\n",
       "      <th></th>\n",
       "      <th></th>\n",
       "    </tr>\n",
       "  </thead>\n",
       "  <tbody>\n",
       "    <tr>\n",
       "      <th>0</th>\n",
       "      <td>-0.007999</td>\n",
       "      <td>-0.014071</td>\n",
       "      <td>-0.015126</td>\n",
       "      <td>-0.005285</td>\n",
       "      <td>-0.008937</td>\n",
       "      <td>-0.011499</td>\n",
       "      <td>-0.003166</td>\n",
       "      <td>-0.012027</td>\n",
       "      <td>0.004802</td>\n",
       "      <td>2.535563</td>\n",
       "    </tr>\n",
       "    <tr>\n",
       "      <th>1</th>\n",
       "      <td>2.106022</td>\n",
       "      <td>3.704751</td>\n",
       "      <td>3.982487</td>\n",
       "      <td>1.391500</td>\n",
       "      <td>2.353019</td>\n",
       "      <td>3.027535</td>\n",
       "      <td>0.833587</td>\n",
       "      <td>3.166511</td>\n",
       "      <td>-1.264327</td>\n",
       "      <td>13.810173</td>\n",
       "    </tr>\n",
       "  </tbody>\n",
       "</table>\n",
       "</div>"
      ],
      "text/plain": [
       "                0         1         2         3         4         5         6  \\\n",
       "cluster                                                                         \n",
       "0       -0.007999 -0.014071 -0.015126 -0.005285 -0.008937 -0.011499 -0.003166   \n",
       "1        2.106022  3.704751  3.982487  1.391500  2.353019  3.027535  0.833587   \n",
       "\n",
       "                7         8      score  \n",
       "cluster                                 \n",
       "0       -0.012027  0.004802   2.535563  \n",
       "1        3.166511 -1.264327  13.810173  "
      ]
     },
     "execution_count": 71,
     "metadata": {},
     "output_type": "execute_result"
    }
   ],
   "source": [
    "df_test.groupby('cluster').mean()"
   ]
  },
  {
   "cell_type": "markdown",
   "metadata": {},
   "source": [
    "### Model 2: [25, 10, 2, 10, 25]. Besides the input layer and output layers, there are three hidden layers with 10, 2, and 10 neurons respectively."
   ]
  },
  {
   "cell_type": "code",
   "execution_count": 72,
   "metadata": {},
   "outputs": [
    {
     "name": "stdout",
     "output_type": "stream",
     "text": [
      "Model: \"sequential_2\"\n",
      "_________________________________________________________________\n",
      "Layer (type)                 Output Shape              Param #   \n",
      "=================================================================\n",
      "dense_14 (Dense)             (None, 9)                 90        \n",
      "_________________________________________________________________\n",
      "dropout_12 (Dropout)         (None, 9)                 0         \n",
      "_________________________________________________________________\n",
      "dense_15 (Dense)             (None, 9)                 90        \n",
      "_________________________________________________________________\n",
      "dropout_13 (Dropout)         (None, 9)                 0         \n",
      "_________________________________________________________________\n",
      "dense_16 (Dense)             (None, 25)                250       \n",
      "_________________________________________________________________\n",
      "dropout_14 (Dropout)         (None, 25)                0         \n",
      "_________________________________________________________________\n",
      "dense_17 (Dense)             (None, 15)                390       \n",
      "_________________________________________________________________\n",
      "dropout_15 (Dropout)         (None, 15)                0         \n",
      "_________________________________________________________________\n",
      "dense_18 (Dense)             (None, 10)                160       \n",
      "_________________________________________________________________\n",
      "dropout_16 (Dropout)         (None, 10)                0         \n",
      "_________________________________________________________________\n",
      "dense_19 (Dense)             (None, 2)                 22        \n",
      "_________________________________________________________________\n",
      "dropout_17 (Dropout)         (None, 2)                 0         \n",
      "_________________________________________________________________\n",
      "dense_20 (Dense)             (None, 10)                30        \n",
      "_________________________________________________________________\n",
      "dropout_18 (Dropout)         (None, 10)                0         \n",
      "_________________________________________________________________\n",
      "dense_21 (Dense)             (None, 15)                165       \n",
      "_________________________________________________________________\n",
      "dropout_19 (Dropout)         (None, 15)                0         \n",
      "_________________________________________________________________\n",
      "dense_22 (Dense)             (None, 25)                400       \n",
      "_________________________________________________________________\n",
      "dropout_20 (Dropout)         (None, 25)                0         \n",
      "_________________________________________________________________\n",
      "dense_23 (Dense)             (None, 9)                 234       \n",
      "=================================================================\n",
      "Total params: 1,831\n",
      "Trainable params: 1,831\n",
      "Non-trainable params: 0\n",
      "_________________________________________________________________\n",
      "None\n",
      "Epoch 1/10\n",
      "3440/3440 [==============================] - 8s 2ms/step - loss: 1.1403 - val_loss: 0.9969\n",
      "Epoch 2/10\n",
      "3440/3440 [==============================] - 7s 2ms/step - loss: 1.0138 - val_loss: 0.9846\n",
      "Epoch 3/10\n",
      "3440/3440 [==============================] - 6s 2ms/step - loss: 1.0057 - val_loss: 0.9813\n",
      "Epoch 4/10\n",
      "3440/3440 [==============================] - 6s 2ms/step - loss: 1.0035 - val_loss: 0.9804\n",
      "Epoch 5/10\n",
      "3440/3440 [==============================] - 6s 2ms/step - loss: 1.0028 - val_loss: 0.9801\n",
      "Epoch 6/10\n",
      "3440/3440 [==============================] - 6s 2ms/step - loss: 1.0025 - val_loss: 0.9799\n",
      "Epoch 7/10\n",
      "3440/3440 [==============================] - 6s 2ms/step - loss: 1.0024 - val_loss: 0.9799\n",
      "Epoch 8/10\n",
      "3440/3440 [==============================] - 6s 2ms/step - loss: 1.0023 - val_loss: 0.9799\n",
      "Epoch 9/10\n",
      "3440/3440 [==============================] - 6s 2ms/step - loss: 1.0023 - val_loss: 0.9799\n",
      "Epoch 10/10\n",
      "3440/3440 [==============================] - 7s 2ms/step - loss: 1.0023 - val_loss: 0.9799\n"
     ]
    },
    {
     "data": {
      "text/plain": [
       "AutoEncoder(batch_size=32, contamination=0.1, dropout_rate=0.2, epochs=10,\n",
       "      hidden_activation='relu', hidden_neurons=[25, 15, 10, 2, 10, 15, 25],\n",
       "      l2_regularizer=0.1,\n",
       "      loss=<function mean_squared_error at 0x13936daf0>, optimizer='adam',\n",
       "      output_activation='sigmoid', preprocessing=True, random_state=None,\n",
       "      validation_size=0.1, verbose=1)"
      ]
     },
     "execution_count": 72,
     "metadata": {},
     "output_type": "execute_result"
    }
   ],
   "source": [
    "# Step 1: Build the model\n",
    "clf2 = AutoEncoder(hidden_neurons =[25, 15, 10, 2, 10,15, 25],epochs=10)\n",
    "clf2.fit(X_train)"
   ]
  },
  {
   "cell_type": "code",
   "execution_count": 73,
   "metadata": {},
   "outputs": [
    {
     "data": {
      "image/png": "[encoded data removed]",
      "text/plain": [
       "<Figure size 432x288 with 1 Axes>"
      ]
     },
     "metadata": {
      "needs_background": "light"
     },
     "output_type": "display_data"
    }
   ],
   "source": [
    "# Get the outlier scores for the train data\n",
    "x_train_scores = clf2.decision_scores_  \n",
    "\n",
    "# Predict the anomaly scores\n",
    "x_test_scores = clf2.decision_function(standardized_data)  # outlier scores\n",
    "x_test_scores = pd.Series(x_test_scores)\n",
    "\n",
    "# Plot it!\n",
    "import matplotlib.pyplot as plt\n",
    "plt.hist(x_test_scores, bins='auto')  \n",
    "plt.title(\"Histogram for Model Clf1 Anomaly Scores\")\n",
    "plt.show()"
   ]
  },
  {
   "cell_type": "code",
   "execution_count": 74,
   "metadata": {},
   "outputs": [
    {
     "data": {
      "text/plain": [
       "0    162447\n",
       "1       618\n",
       "Name: cluster, dtype: int64"
      ]
     },
     "execution_count": 74,
     "metadata": {},
     "output_type": "execute_result"
    }
   ],
   "source": [
    "standardized_data = pd.DataFrame(standardized_data)\n",
    "df_test = standardized_data.copy()\n",
    "df_test['score'] = x_test_scores\n",
    "df_test['cluster'] = np.where(df_test['score']<10, 0, 1)\n",
    "df_test['cluster'].value_counts()"
   ]
  },
  {
   "cell_type": "code",
   "execution_count": 75,
   "metadata": {},
   "outputs": [
    {
     "data": {
      "text/html": [
       "<div>\n",
       "<style scoped>\n",
       "    .dataframe tbody tr th:only-of-type {\n",
       "        vertical-align: middle;\n",
       "    }\n",
       "\n",
       "    .dataframe tbody tr th {\n",
       "        vertical-align: top;\n",
       "    }\n",
       "\n",
       "    .dataframe thead th {\n",
       "        text-align: right;\n",
       "    }\n",
       "</style>\n",
       "<table border=\"1\" class=\"dataframe\">\n",
       "  <thead>\n",
       "    <tr style=\"text-align: right;\">\n",
       "      <th></th>\n",
       "      <th>0</th>\n",
       "      <th>1</th>\n",
       "      <th>2</th>\n",
       "      <th>3</th>\n",
       "      <th>4</th>\n",
       "      <th>5</th>\n",
       "      <th>6</th>\n",
       "      <th>7</th>\n",
       "      <th>8</th>\n",
       "      <th>score</th>\n",
       "    </tr>\n",
       "    <tr>\n",
       "      <th>cluster</th>\n",
       "      <th></th>\n",
       "      <th></th>\n",
       "      <th></th>\n",
       "      <th></th>\n",
       "      <th></th>\n",
       "      <th></th>\n",
       "      <th></th>\n",
       "      <th></th>\n",
       "      <th></th>\n",
       "      <th></th>\n",
       "    </tr>\n",
       "  </thead>\n",
       "  <tbody>\n",
       "    <tr>\n",
       "      <th>0</th>\n",
       "      <td>-0.008002</td>\n",
       "      <td>-0.014097</td>\n",
       "      <td>-0.015161</td>\n",
       "      <td>-0.005302</td>\n",
       "      <td>-0.008954</td>\n",
       "      <td>-0.011496</td>\n",
       "      <td>-0.003200</td>\n",
       "      <td>-0.012035</td>\n",
       "      <td>0.004812</td>\n",
       "      <td>2.535448</td>\n",
       "    </tr>\n",
       "    <tr>\n",
       "      <th>1</th>\n",
       "      <td>2.103379</td>\n",
       "      <td>3.705510</td>\n",
       "      <td>3.985301</td>\n",
       "      <td>1.393561</td>\n",
       "      <td>2.353692</td>\n",
       "      <td>3.021811</td>\n",
       "      <td>0.841147</td>\n",
       "      <td>3.163572</td>\n",
       "      <td>-1.264959</td>\n",
       "      <td>13.804202</td>\n",
       "    </tr>\n",
       "  </tbody>\n",
       "</table>\n",
       "</div>"
      ],
      "text/plain": [
       "                0         1         2         3         4         5         6  \\\n",
       "cluster                                                                         \n",
       "0       -0.008002 -0.014097 -0.015161 -0.005302 -0.008954 -0.011496 -0.003200   \n",
       "1        2.103379  3.705510  3.985301  1.393561  2.353692  3.021811  0.841147   \n",
       "\n",
       "                7         8      score  \n",
       "cluster                                 \n",
       "0       -0.012035  0.004812   2.535448  \n",
       "1        3.163572 -1.264959  13.804202  "
      ]
     },
     "execution_count": 75,
     "metadata": {},
     "output_type": "execute_result"
    }
   ],
   "source": [
    "df_test.groupby('cluster').mean()"
   ]
  },
  {
   "cell_type": "markdown",
   "metadata": {},
   "source": [
    "### Model 3: [25, 15, 10, 2, 10, 15, 25]. There are five hidden layers with 15, 10, 2, 10, 15 neurons respectively."
   ]
  },
  {
   "cell_type": "code",
   "execution_count": 76,
   "metadata": {},
   "outputs": [
    {
     "name": "stdout",
     "output_type": "stream",
     "text": [
      "Model: \"sequential_3\"\n",
      "_________________________________________________________________\n",
      "Layer (type)                 Output Shape              Param #   \n",
      "=================================================================\n",
      "dense_24 (Dense)             (None, 9)                 90        \n",
      "_________________________________________________________________\n",
      "dropout_21 (Dropout)         (None, 9)                 0         \n",
      "_________________________________________________________________\n",
      "dense_25 (Dense)             (None, 9)                 90        \n",
      "_________________________________________________________________\n",
      "dropout_22 (Dropout)         (None, 9)                 0         \n",
      "_________________________________________________________________\n",
      "dense_26 (Dense)             (None, 25)                250       \n",
      "_________________________________________________________________\n",
      "dropout_23 (Dropout)         (None, 25)                0         \n",
      "_________________________________________________________________\n",
      "dense_27 (Dense)             (None, 15)                390       \n",
      "_________________________________________________________________\n",
      "dropout_24 (Dropout)         (None, 15)                0         \n",
      "_________________________________________________________________\n",
      "dense_28 (Dense)             (None, 10)                160       \n",
      "_________________________________________________________________\n",
      "dropout_25 (Dropout)         (None, 10)                0         \n",
      "_________________________________________________________________\n",
      "dense_29 (Dense)             (None, 2)                 22        \n",
      "_________________________________________________________________\n",
      "dropout_26 (Dropout)         (None, 2)                 0         \n",
      "_________________________________________________________________\n",
      "dense_30 (Dense)             (None, 10)                30        \n",
      "_________________________________________________________________\n",
      "dropout_27 (Dropout)         (None, 10)                0         \n",
      "_________________________________________________________________\n",
      "dense_31 (Dense)             (None, 15)                165       \n",
      "_________________________________________________________________\n",
      "dropout_28 (Dropout)         (None, 15)                0         \n",
      "_________________________________________________________________\n",
      "dense_32 (Dense)             (None, 25)                400       \n",
      "_________________________________________________________________\n",
      "dropout_29 (Dropout)         (None, 25)                0         \n",
      "_________________________________________________________________\n",
      "dense_33 (Dense)             (None, 9)                 234       \n",
      "=================================================================\n",
      "Total params: 1,831\n",
      "Trainable params: 1,831\n",
      "Non-trainable params: 0\n",
      "_________________________________________________________________\n",
      "None\n",
      "Epoch 1/10\n",
      "3440/3440 [==============================] - 7s 2ms/step - loss: 1.1227 - val_loss: 1.0098\n",
      "Epoch 2/10\n",
      "3440/3440 [==============================] - 8s 2ms/step - loss: 1.0120 - val_loss: 0.9967\n",
      "Epoch 3/10\n",
      "3440/3440 [==============================] - 6s 2ms/step - loss: 1.0044 - val_loss: 0.9932\n",
      "Epoch 4/10\n",
      "3440/3440 [==============================] - 6s 2ms/step - loss: 1.0022 - val_loss: 0.9921\n",
      "Epoch 5/10\n",
      "3440/3440 [==============================] - 6s 2ms/step - loss: 1.0016 - val_loss: 0.9917\n",
      "Epoch 6/10\n",
      "3440/3440 [==============================] - 6s 2ms/step - loss: 1.0013 - val_loss: 0.9915\n",
      "Epoch 7/10\n",
      "3440/3440 [==============================] - 7s 2ms/step - loss: 1.0011 - val_loss: 0.9914\n",
      "Epoch 8/10\n",
      "3440/3440 [==============================] - 7s 2ms/step - loss: 1.0011 - val_loss: 0.9914\n",
      "Epoch 9/10\n",
      "3440/3440 [==============================] - 7s 2ms/step - loss: 1.0010 - val_loss: 0.9913\n",
      "Epoch 10/10\n",
      "3440/3440 [==============================] - 6s 2ms/step - loss: 1.0010 - val_loss: 0.9913\n"
     ]
    },
    {
     "data": {
      "text/plain": [
       "AutoEncoder(batch_size=32, contamination=0.1, dropout_rate=0.2, epochs=10,\n",
       "      hidden_activation='relu', hidden_neurons=[25, 15, 10, 2, 10, 15, 25],\n",
       "      l2_regularizer=0.1,\n",
       "      loss=<function mean_squared_error at 0x13936daf0>, optimizer='adam',\n",
       "      output_activation='sigmoid', preprocessing=True, random_state=None,\n",
       "      validation_size=0.1, verbose=1)"
      ]
     },
     "execution_count": 76,
     "metadata": {},
     "output_type": "execute_result"
    }
   ],
   "source": [
    "# Step 1: Build the model\n",
    "clf3 = AutoEncoder(hidden_neurons =[25, 15, 10, 2, 10,15, 25],epochs=10)\n",
    "clf3.fit(X_train)"
   ]
  },
  {
   "cell_type": "code",
   "execution_count": 77,
   "metadata": {},
   "outputs": [
    {
     "data": {
      "image/png": "[encoded data removed]",
      "text/plain": [
       "<Figure size 432x288 with 1 Axes>"
      ]
     },
     "metadata": {
      "needs_background": "light"
     },
     "output_type": "display_data"
    }
   ],
   "source": [
    "# Get the outlier scores for the train data\n",
    "x_train_scores = clf3.decision_scores_  \n",
    "\n",
    "# Predict the anomaly scores\n",
    "x_test_scores = clf3.decision_function(standardized_data)  # outlier scores\n",
    "x_test_scores = pd.Series(x_test_scores)\n",
    "\n",
    "# Plot it!\n",
    "import matplotlib.pyplot as plt\n",
    "plt.hist(x_test_scores, bins='auto')  \n",
    "plt.title(\"Histogram for Model Clf1 Anomaly Scores\")\n",
    "plt.show()"
   ]
  },
  {
   "cell_type": "code",
   "execution_count": 78,
   "metadata": {},
   "outputs": [
    {
     "data": {
      "text/plain": [
       "0    162448\n",
       "1       617\n",
       "Name: cluster, dtype: int64"
      ]
     },
     "execution_count": 78,
     "metadata": {},
     "output_type": "execute_result"
    }
   ],
   "source": [
    "standardized_data = pd.DataFrame(standardized_data)\n",
    "df_test = standardized_data.copy()\n",
    "df_test['score'] = x_test_scores\n",
    "df_test['cluster'] = np.where(df_test['score']<10, 0, 1)\n",
    "df_test['cluster'].value_counts()"
   ]
  },
  {
   "cell_type": "code",
   "execution_count": 79,
   "metadata": {},
   "outputs": [
    {
     "data": {
      "text/html": [
       "<div>\n",
       "<style scoped>\n",
       "    .dataframe tbody tr th:only-of-type {\n",
       "        vertical-align: middle;\n",
       "    }\n",
       "\n",
       "    .dataframe tbody tr th {\n",
       "        vertical-align: top;\n",
       "    }\n",
       "\n",
       "    .dataframe thead th {\n",
       "        text-align: right;\n",
       "    }\n",
       "</style>\n",
       "<table border=\"1\" class=\"dataframe\">\n",
       "  <thead>\n",
       "    <tr style=\"text-align: right;\">\n",
       "      <th></th>\n",
       "      <th>0</th>\n",
       "      <th>1</th>\n",
       "      <th>2</th>\n",
       "      <th>3</th>\n",
       "      <th>4</th>\n",
       "      <th>5</th>\n",
       "      <th>6</th>\n",
       "      <th>7</th>\n",
       "      <th>8</th>\n",
       "      <th>score</th>\n",
       "    </tr>\n",
       "    <tr>\n",
       "      <th>cluster</th>\n",
       "      <th></th>\n",
       "      <th></th>\n",
       "      <th></th>\n",
       "      <th></th>\n",
       "      <th></th>\n",
       "      <th></th>\n",
       "      <th></th>\n",
       "      <th></th>\n",
       "      <th></th>\n",
       "      <th></th>\n",
       "    </tr>\n",
       "  </thead>\n",
       "  <tbody>\n",
       "    <tr>\n",
       "      <th>0</th>\n",
       "      <td>-0.007999</td>\n",
       "      <td>-0.014071</td>\n",
       "      <td>-0.015126</td>\n",
       "      <td>-0.005285</td>\n",
       "      <td>-0.008937</td>\n",
       "      <td>-0.011499</td>\n",
       "      <td>-0.003166</td>\n",
       "      <td>-0.012027</td>\n",
       "      <td>0.004802</td>\n",
       "      <td>2.535602</td>\n",
       "    </tr>\n",
       "    <tr>\n",
       "      <th>1</th>\n",
       "      <td>2.106022</td>\n",
       "      <td>3.704751</td>\n",
       "      <td>3.982487</td>\n",
       "      <td>1.391500</td>\n",
       "      <td>2.353019</td>\n",
       "      <td>3.027535</td>\n",
       "      <td>0.833587</td>\n",
       "      <td>3.166511</td>\n",
       "      <td>-1.264327</td>\n",
       "      <td>13.810002</td>\n",
       "    </tr>\n",
       "  </tbody>\n",
       "</table>\n",
       "</div>"
      ],
      "text/plain": [
       "                0         1         2         3         4         5         6  \\\n",
       "cluster                                                                         \n",
       "0       -0.007999 -0.014071 -0.015126 -0.005285 -0.008937 -0.011499 -0.003166   \n",
       "1        2.106022  3.704751  3.982487  1.391500  2.353019  3.027535  0.833587   \n",
       "\n",
       "                7         8      score  \n",
       "cluster                                 \n",
       "0       -0.012027  0.004802   2.535602  \n",
       "1        3.166511 -1.264327  13.810002  "
      ]
     },
     "execution_count": 79,
     "metadata": {},
     "output_type": "execute_result"
    }
   ],
   "source": [
    "df_test.groupby('cluster').mean()"
   ]
  },
  {
   "cell_type": "markdown",
   "metadata": {},
   "source": [
    "### Aggregate to Achieve Model Stability"
   ]
  },
  {
   "cell_type": "code",
   "execution_count": 80,
   "metadata": {},
   "outputs": [],
   "source": [
    "# Put all the predictions in a data frame\n",
    "from pyod.models.combination import aom, moa, average, maximization\n",
    "\n",
    "# Put all the predictions in a data frame\n",
    "train_scores = pd.DataFrame({'clf1': clf1.decision_scores_,\n",
    "                             'clf2': clf2.decision_scores_,\n",
    "                             'clf3': clf3.decision_scores_\n",
    "                            })\n",
    "\n",
    "test_scores  = pd.DataFrame({'clf1': clf1.decision_function(standardized_data),\n",
    "                             'clf2': clf2.decision_function(standardized_data),\n",
    "                             'clf3': clf3.decision_function(standardized_data) \n",
    "                            })"
   ]
  },
  {
   "cell_type": "code",
   "execution_count": 81,
   "metadata": {},
   "outputs": [],
   "source": [
    "# Although we did standardization before, it was for the variables.\n",
    "# Now we do the standardization for the decision scores\n",
    "train_scores_norm, test_scores_norm = standardizer(train_scores,test_scores)"
   ]
  },
  {
   "cell_type": "code",
   "execution_count": 82,
   "metadata": {},
   "outputs": [
    {
     "data": {
      "image/png": "[encoded data removed]",
      "text/plain": [
       "<Figure size 432x288 with 1 Axes>"
      ]
     },
     "metadata": {
      "needs_background": "light"
     },
     "output_type": "display_data"
    }
   ],
   "source": [
    "#Average method\n",
    "# Combination by average\n",
    "x_by_average = average(test_scores_norm)\n",
    "             \n",
    "import matplotlib.pyplot as plt\n",
    "plt.hist(x_by_average, bins='auto')  # arguments are passed to np.histogram\n",
    "plt.title(\"Combination by average\")\n",
    "plt.show()"
   ]
  },
  {
   "cell_type": "code",
   "execution_count": 90,
   "metadata": {},
   "outputs": [
    {
     "data": {
      "text/plain": [
       "0    162738\n",
       "1       327\n",
       "Name: x_by_average_cluster, dtype: int64"
      ]
     },
     "execution_count": 90,
     "metadata": {},
     "output_type": "execute_result"
    }
   ],
   "source": [
    "df_test = data.copy()\n",
    "df_test = pd.DataFrame(df_test)\n",
    "df_test['x_by_average_score'] = x_by_average\n",
    "df_test['x_by_average_cluster'] = np.where(df_test['x_by_average_score']<6, 0, 1)\n",
    "df_test['x_by_average_cluster'].value_counts()"
   ]
  },
  {
   "cell_type": "code",
   "execution_count": 91,
   "metadata": {},
   "outputs": [
    {
     "data": {
      "text/html": [
       "<div>\n",
       "<style scoped>\n",
       "    .dataframe tbody tr th:only-of-type {\n",
       "        vertical-align: middle;\n",
       "    }\n",
       "\n",
       "    .dataframe tbody tr th {\n",
       "        vertical-align: top;\n",
       "    }\n",
       "\n",
       "    .dataframe thead th {\n",
       "        text-align: right;\n",
       "    }\n",
       "</style>\n",
       "<table border=\"1\" class=\"dataframe\">\n",
       "  <thead>\n",
       "    <tr style=\"text-align: right;\">\n",
       "      <th></th>\n",
       "      <th>total discharge/Average_Total_Discharge_by_DRG_definition ratio</th>\n",
       "      <th>avg total payments/Average_Total_Payment_by_DRG_definition</th>\n",
       "      <th>avg total payments/Average_Total_Payment_by_DRG_definition_by_State</th>\n",
       "      <th>avg covered charges/Average_Average_Covered_charges_by_DRG_definition_by_State</th>\n",
       "      <th>avg medicare payment/Average_Average_Medicare_Payments_by_DRG_definition_by_State</th>\n",
       "      <th>total_discharges/Average_Total_Discharge_by_Hospital</th>\n",
       "      <th>avg total payment/Average_Total_Payment_by_Hospital</th>\n",
       "      <th>charge/medicare ratio</th>\n",
       "      <th>percentage of medciare payment to total payment</th>\n",
       "      <th>x_by_average_score</th>\n",
       "    </tr>\n",
       "    <tr>\n",
       "      <th>x_by_average_cluster</th>\n",
       "      <th></th>\n",
       "      <th></th>\n",
       "      <th></th>\n",
       "      <th></th>\n",
       "      <th></th>\n",
       "      <th></th>\n",
       "      <th></th>\n",
       "      <th></th>\n",
       "      <th></th>\n",
       "      <th></th>\n",
       "    </tr>\n",
       "  </thead>\n",
       "  <tbody>\n",
       "    <tr>\n",
       "      <th>0</th>\n",
       "      <td>1.00</td>\n",
       "      <td>1.00</td>\n",
       "      <td>1.00</td>\n",
       "      <td>1.00</td>\n",
       "      <td>1.00</td>\n",
       "      <td>0.99</td>\n",
       "      <td>1.00</td>\n",
       "      <td>1.20</td>\n",
       "      <td>0.85</td>\n",
       "      <td>-0.02</td>\n",
       "    </tr>\n",
       "    <tr>\n",
       "      <th>1</th>\n",
       "      <td>2.75</td>\n",
       "      <td>2.14</td>\n",
       "      <td>1.94</td>\n",
       "      <td>1.59</td>\n",
       "      <td>1.55</td>\n",
       "      <td>4.28</td>\n",
       "      <td>1.67</td>\n",
       "      <td>1.98</td>\n",
       "      <td>0.70</td>\n",
       "      <td>9.11</td>\n",
       "    </tr>\n",
       "  </tbody>\n",
       "</table>\n",
       "</div>"
      ],
      "text/plain": [
       "                      total discharge/Average_Total_Discharge_by_DRG_definition ratio  \\\n",
       "x_by_average_cluster                                                                    \n",
       "0                                                                  1.00                 \n",
       "1                                                                  2.75                 \n",
       "\n",
       "                      avg total payments/Average_Total_Payment_by_DRG_definition  \\\n",
       "x_by_average_cluster                                                               \n",
       "0                                                                  1.00            \n",
       "1                                                                  2.14            \n",
       "\n",
       "                      avg total payments/Average_Total_Payment_by_DRG_definition_by_State  \\\n",
       "x_by_average_cluster                                                                        \n",
       "0                                                                  1.00                     \n",
       "1                                                                  1.94                     \n",
       "\n",
       "                      avg covered charges/Average_Average_Covered_charges_by_DRG_definition_by_State  \\\n",
       "x_by_average_cluster                                                                                   \n",
       "0                                                                  1.00                                \n",
       "1                                                                  1.59                                \n",
       "\n",
       "                      avg medicare payment/Average_Average_Medicare_Payments_by_DRG_definition_by_State  \\\n",
       "x_by_average_cluster                                                                                      \n",
       "0                                                                  1.00                                   \n",
       "1                                                                  1.55                                   \n",
       "\n",
       "                      total_discharges/Average_Total_Discharge_by_Hospital  \\\n",
       "x_by_average_cluster                                                         \n",
       "0                                                                  0.99      \n",
       "1                                                                  4.28      \n",
       "\n",
       "                      avg total payment/Average_Total_Payment_by_Hospital  \\\n",
       "x_by_average_cluster                                                        \n",
       "0                                                                  1.00     \n",
       "1                                                                  1.67     \n",
       "\n",
       "                      charge/medicare ratio  \\\n",
       "x_by_average_cluster                          \n",
       "0                                      1.20   \n",
       "1                                      1.98   \n",
       "\n",
       "                      percentage of medciare payment to total payment  \\\n",
       "x_by_average_cluster                                                    \n",
       "0                                                                0.85   \n",
       "1                                                                0.70   \n",
       "\n",
       "                      x_by_average_score  \n",
       "x_by_average_cluster                      \n",
       "0                                  -0.02  \n",
       "1                                   9.11  "
      ]
     },
     "execution_count": 91,
     "metadata": {},
     "output_type": "execute_result"
    }
   ],
   "source": [
    "df_test.groupby('x_by_average_cluster').mean().round(2)"
   ]
  },
  {
   "cell_type": "markdown",
   "metadata": {},
   "source": [
    "# Autoencoders is an unsupervised learning algorithm adapted from artificial Neural Network. In this case, the hidden core layer is our point of interests. If the number of neurons in the hidden layers is less than that of the input layers, the hidden layers will extract the essential information of the input values. If the number of neurons in the hidden layers is less than that of the input layers, the hidden layers will extract the essential information of the input values. By employing dimension reduction, the main patterns are dentified and the outliers are revealed. In this project,  I have built three models and aggregated the statistics to achieve model stability as unsupervised techniques are very prone to overfitting and unstable results. On the chart above, cluster 1 is identified as the anomalous cluster, that counts for 0.2% of the entire dataset. Cluster 1 has a much higher number in total charges and average total payments that are represented by column5, column 1,2,and 7 compared to cluster0. Cluster 1 also has a very high x_by_average_score and this suggests that this group of points have a very high anomaly score. This is anomalous and needs to be further investigated. "
   ]
  }
 ],
 "metadata": {
  "kernelspec": {
   "display_name": "Python 3",
   "language": "python",
   "name": "python3"
  },
  "language_info": {
   "codemirror_mode": {
    "name": "ipython",
    "version": 3
   },
   "file_extension": ".py",
   "mimetype": "text/x-python",
   "name": "python",
   "nbconvert_exporter": "python",
   "pygments_lexer": "ipython3",
   "version": "3.8.3-final"
  }
 },
 "nbformat": 4,
 "nbformat_minor": 4
}